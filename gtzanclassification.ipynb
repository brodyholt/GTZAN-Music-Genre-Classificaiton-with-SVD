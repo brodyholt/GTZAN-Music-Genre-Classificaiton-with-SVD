{
 "cells": [
  {
   "cell_type": "code",
   "execution_count": 1,
   "metadata": {},
   "outputs": [],
   "source": [
    "import numpy as np\n",
    "import pandas as pd\n",
    "import matplotlib.pyplot as plt\n",
    "from matplotlib.lines import Line2D\n",
    "from glob import glob\n",
    "from scipy import linalg\n",
    "import scipy.io\n",
    "import os\n",
    "import librosa\n",
    "import librosa.display\n",
    "import soundfile\n"
   ]
  },
  {
   "cell_type": "code",
   "execution_count": 2,
   "metadata": {},
   "outputs": [
    {
     "name": "stdout",
     "output_type": "stream",
     "text": [
      "['pop', 'metal', 'disco', 'blues', 'reggae', 'classical', 'rock', 'hiphop', 'country', 'jazz']\n",
      "['data/pop', 'data/metal', 'data/disco', 'data/blues', 'data/reggae', 'data/classical', 'data/rock', 'data/hiphop', 'data/country', 'data/jazz']\n"
     ]
    }
   ],
   "source": [
    "# Import files from data folder\n",
    "\n",
    "folder_paths = []\n",
    "genres = []\n",
    "\n",
    "\n",
    "for entry_name in os.listdir('data'):\n",
    "    entry_path = os.path.join('data', entry_name)\n",
    "    if os.path.isdir(entry_path):\n",
    "        folder_paths.append(entry_path)\n",
    "        genres.append(entry_name)\n",
    "print(genres)\n",
    "print(folder_paths)"
   ]
  },
  {
   "cell_type": "code",
   "execution_count": 3,
   "metadata": {},
   "outputs": [
    {
     "name": "stdout",
     "output_type": "stream",
     "text": [
      "['pop', 'metal', 'disco', 'blues', 'reggae', 'classical', 'rock', 'hiphop', 'country', 'jazz']\n",
      "['data/pop', 'data/metal', 'data/disco', 'data/blues', 'data/reggae', 'data/classical', 'data/rock', 'data/hiphop', 'data/country', 'data/jazz']\n"
     ]
    }
   ],
   "source": [
    "# Create subsets of genres to restrict model to certain genres\n",
    "\n",
    "\n",
    "sub = [0,1,2,3,4,5,6,7,8,9] # full set\n",
    "\n",
    "\n",
    "\n",
    "folder_paths = [folder_paths[i] for i in sub]\n",
    "genres = [genres[i] for i in sub]\n",
    "\n",
    "\n",
    "print(genres)\n",
    "print(folder_paths)"
   ]
  },
  {
   "cell_type": "code",
   "execution_count": 4,
   "metadata": {},
   "outputs": [],
   "source": [
    "# Import all song files\n",
    "\n",
    "files = []\n",
    "\n",
    "for i in range(0,len(folder_paths)):\n",
    "    files.append(glob(folder_paths[i]+'/*.wav'))"
   ]
  },
  {
   "cell_type": "code",
   "execution_count": 5,
   "metadata": {},
   "outputs": [],
   "source": [
    "# Uses librosa to load the song files into wave format\n",
    "\n",
    "waves = []\n",
    "sr = []\n",
    "\n",
    "for i in range(0,len(files)):\n",
    "    wavelist = []\n",
    "    for j in range(0,len(files[i])):\n",
    "        yin,srin = librosa.load(files[i][j],duration=29)\n",
    "        wavelist.append(yin)\n",
    "    waves.append(wavelist)    "
   ]
  },
  {
   "cell_type": "code",
   "execution_count": 6,
   "metadata": {},
   "outputs": [],
   "source": [
    "# Uses librosa to create Mel-Frequency cepstral coefficient matrices for each song\n",
    "\n",
    "spectrums = []\n",
    "\n",
    "for i in range(0,len(waves)):  \n",
    "    spectrumlist = []\n",
    "    for j in range(0,len(waves[i])):\n",
    "        specin = librosa.feature.mfcc(y=waves[i][j])\n",
    "        spectrumlist.append(specin)\n",
    "    spectrums.append(spectrumlist)\n",
    "    \n"
   ]
  },
  {
   "cell_type": "code",
   "execution_count": 7,
   "metadata": {},
   "outputs": [
    {
     "name": "stdout",
     "output_type": "stream",
     "text": [
      "39\n",
      "10\n",
      "80\n",
      "85\n",
      "21\n",
      "0\n",
      "29\n",
      "1\n",
      "5\n",
      "28\n",
      "27\n",
      "69\n",
      "56\n",
      "59\n",
      "19\n",
      "91\n",
      "32\n",
      "34\n",
      "43\n",
      "92\n",
      "53\n",
      "35\n",
      "74\n",
      "2\n",
      "73\n",
      "61\n",
      "40\n",
      "84\n",
      "63\n",
      "4\n"
     ]
    }
   ],
   "source": [
    "# Randomly selects songs in each genre based on trainSetSize and splits in to training and test sets\n",
    "\n",
    "\n",
    "trainSetSize = 30\n",
    "\n",
    "trainIndex = np.random.choice(range(98), trainSetSize, replace=False)\n",
    "testIndex = np.arange(0,98,1)\n",
    "testIndex = list(filter(lambda x: x not in trainIndex, testIndex))\n",
    "\n",
    "testSet = np.take(files[0],testIndex)\n",
    "trainSet = np.take(files[0],trainIndex)\n",
    "\n",
    "\n",
    "for i in trainIndex:\n",
    "    print(i)\n"
   ]
  },
  {
   "cell_type": "code",
   "execution_count": 8,
   "metadata": {},
   "outputs": [],
   "source": [
    "# Creates an average mfcc matrix of the training set for each genre, also creates an average mfcc matrix for the entire training basis \n",
    "\n",
    "averageSongs = []\n",
    "averageSpectrum = []\n",
    "iterations = 0\n",
    "for i in range(0,len(genres)):\n",
    "    average = []\n",
    "    for j in trainIndex:\n",
    "        if len(average) == 0:\n",
    "            average = spectrums[i][j]\n",
    "        else:\n",
    "            average = average + spectrums[i][j]\n",
    "        if len(averageSpectrum) == 0:\n",
    "            averageSpectrum = spectrums[i][j]\n",
    "        else:\n",
    "            averageSpectrum = averageSpectrum + spectrums[i][j]  \n",
    "        iterations = iterations + 1\n",
    "    averageSongs.append(average*(1/trainSetSize))\n",
    "averageSpectrum = averageSpectrum*(1/(trainSetSize*len(genres)))\n",
    "\n"
   ]
  },
  {
   "cell_type": "code",
   "execution_count": 9,
   "metadata": {},
   "outputs": [],
   "source": [
    "# Creates a training basis for all songs in the training set for each genre in order.\n",
    "# This will also be mean-centered\n",
    "\n",
    "trainBases = []\n",
    "\n",
    "for i in range(0,len(spectrums)):\n",
    "    first = 1\n",
    "    for j in trainIndex:\n",
    "        if bool(first) == True:\n",
    "            X = (spectrums[i][j]-averageSpectrum)\n",
    "            first = 0\n",
    "        else:\n",
    "            X = np.concatenate((X,(spectrums[i][j]-averageSpectrum)),axis=1)\n",
    "    trainBases.append(X)\n",
    "\n",
    "Songs = []\n",
    "for i in range(0,len(trainBases)):\n",
    "    if len(Songs) == 0:\n",
    "        Songs = trainBases[i]\n",
    "    else:\n",
    "        Songs = np.append(Songs,trainBases[i],axis=1)\n"
   ]
  },
  {
   "cell_type": "code",
   "execution_count": 10,
   "metadata": {},
   "outputs": [],
   "source": [
    "# Performs SVD on the basis matrix\n",
    "\n",
    "U,Sigma,V = np.linalg.svd(Songs,full_matrices=0)"
   ]
  },
  {
   "cell_type": "code",
   "execution_count": 11,
   "metadata": {},
   "outputs": [
    {
     "data": {
      "image/png": "[encoded data removed]",
      "text/plain": [
       "<Figure size 640x480 with 1 Axes>"
      ]
     },
     "metadata": {},
     "output_type": "display_data"
    }
   ],
   "source": [
    "#performs PCA by projecting the average mfcc matrix of each genre onto the selected columns of U transpose.  \n",
    "\n",
    "PCAmodes = [1,2]\n",
    "PCACoords = []\n",
    "\n",
    "for i in range(0,len(averageSongs)):\n",
    "    PCACoords.append(U[:,PCAmodes-np.ones_like(PCAmodes)].T @ averageSongs[i])\n",
    "\n",
    "\n",
    "for i in range(0,len(PCACoords)):\n",
    "    plt.scatter(PCACoords[i][0,:],PCACoords[i][1,:],label=genres[i])\n",
    "\n",
    "\n",
    "plt.xlabel(\"{}{}\".format(\"Mode \", PCAmodes[0]))\n",
    "plt.ylabel(\"{}{}\".format(\"Mode \", PCAmodes[1]))\n",
    "plt.legend()\n",
    "plt.show()"
   ]
  },
  {
   "cell_type": "code",
   "execution_count": 12,
   "metadata": {},
   "outputs": [
    {
     "name": "stdout",
     "output_type": "stream",
     "text": [
      "pop\n",
      "metal\n",
      "disco\n",
      "blues\n",
      "reggae\n",
      "classical\n",
      "rock\n",
      "hiphop\n",
      "country\n",
      "jazz\n"
     ]
    }
   ],
   "source": [
    "# Performs classification by projecting each song in the test set and assigning a classificaiton based on the distance to each PCA cluster.\n",
    "\n",
    "testClassif = []\n",
    "\n",
    "for k in range(0,len(genres)):\n",
    "    predictedValues = []\n",
    "    print(genres[k])\n",
    "    for j in testIndex:\n",
    "        PCAtest = U[:,PCAmodes-np.ones_like(PCAmodes)].T @ spectrums[k][j]\n",
    "        norms = []\n",
    "        for i in range(0,len(genres)):\n",
    "            norms.append(np.linalg.norm(PCAtest-PCACoords[i])) \n",
    "        predictedValues.append(np.argmin(norms))\n",
    "    testClassif.append(predictedValues)"
   ]
  },
  {
   "cell_type": "code",
   "execution_count": 13,
   "metadata": {},
   "outputs": [
    {
     "data": {
      "text/plain": [
       "[0.6029411764705882,\n",
       " 0.5441176470588235,\n",
       " 0.22058823529411764,\n",
       " 0.08823529411764706,\n",
       " 0.3235294117647059,\n",
       " 0.7941176470588235,\n",
       " 0.20588235294117646,\n",
       " 0.11764705882352941,\n",
       " 0.07352941176470588,\n",
       " 0.5147058823529411]"
      ]
     },
     "execution_count": 13,
     "metadata": {},
     "output_type": "execute_result"
    }
   ],
   "source": [
    "# Calculates the correct classification rates for each genre.\n",
    "\n",
    "classifRates = []\n",
    "for i in range(0,len(testClassif)):\n",
    "    sumCorrect = 0\n",
    "    for k in range(0,len(testClassif[i])):\n",
    "        if testClassif[i][k] == i:\n",
    "            sumCorrect = sumCorrect + 1\n",
    "    classifRates.append(sumCorrect/len(testClassif[i]))\n",
    "\n",
    "classifRates"
   ]
  }
 ],
 "metadata": {
  "kernelspec": {
   "display_name": "Python 3",
   "language": "python",
   "name": "python3"
  },
  "language_info": {
   "codemirror_mode": {
    "name": "ipython",
    "version": 3
   },
   "file_extension": ".py",
   "mimetype": "text/x-python",
   "name": "python",
   "nbconvert_exporter": "python",
   "pygments_lexer": "ipython3",
   "version": "3.10.9"
  },
  "orig_nbformat": 4
 },
 "nbformat": 4,
 "nbformat_minor": 2
}
